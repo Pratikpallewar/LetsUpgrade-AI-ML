{
 "cells": [
  {
   "cell_type": "markdown",
   "metadata": {},
   "source": [
    "# 1. Write a program to subtract two complex numbers in Pytho\n"
   ]
  },
  {
   "cell_type": "code",
   "execution_count": 1,
   "metadata": {},
   "outputs": [
    {
     "name": "stdout",
     "output_type": "stream",
     "text": [
      "(2+2j)\n"
     ]
    }
   ],
   "source": [
    "a = 2+3j\n",
    "b = 4+5j\n",
    "print(b-a)"
   ]
  },
  {
   "cell_type": "markdown",
   "metadata": {},
   "source": [
    "# 2.Write a program to find the fourth root of a number"
   ]
  },
  {
   "cell_type": "code",
   "execution_count": 14,
   "metadata": {},
   "outputs": [
    {
     "name": "stdout",
     "output_type": "stream",
     "text": [
      "7.0\n"
     ]
    }
   ],
   "source": [
    "number = 2401\n",
    "\n",
    "fourth_root = (number)**(1/4)\n",
    "print(fourth_root)"
   ]
  },
  {
   "cell_type": "markdown",
   "metadata": {},
   "source": [
    "# 3. Write a program to swap two numbers in Python with the help of a temporary variable."
   ]
  },
  {
   "cell_type": "code",
   "execution_count": 13,
   "metadata": {},
   "outputs": [
    {
     "name": "stdout",
     "output_type": "stream",
     "text": [
      "Before swapping: 4 5\n",
      "After swapping: 5 4\n"
     ]
    }
   ],
   "source": [
    "a = 4\n",
    "b = 5\n",
    "print(\"Before swapping:\",a,b)\n",
    "temp = 0\n",
    "temp = a\n",
    "a = b\n",
    "b = temp\n",
    "print(\"After swapping:\",a,b)"
   ]
  },
  {
   "cell_type": "markdown",
   "metadata": {},
   "source": [
    "# 4. Write a program to swap two numbers in Python without using a temporary variable"
   ]
  },
  {
   "cell_type": "code",
   "execution_count": 12,
   "metadata": {},
   "outputs": [
    {
     "name": "stdout",
     "output_type": "stream",
     "text": [
      "Before swapping: 10 50\n",
      "After swapping: 50 10\n"
     ]
    }
   ],
   "source": [
    "a= 10\n",
    "b = 50\n",
    "print(\"Before swapping:\",a,b)\n",
    "a,b = b,a\n",
    "print(\"After swapping:\",a,b)"
   ]
  },
  {
   "cell_type": "markdown",
   "metadata": {},
   "source": [
    "# 5. Write a program to convert fahrenheit to kelvin and celsius both."
   ]
  },
  {
   "cell_type": "code",
   "execution_count": 11,
   "metadata": {},
   "outputs": [
    {
     "name": "stdout",
     "output_type": "stream",
     "text": [
      "Farenhiet : 42 F\n",
      "Celsious : 5.555555555555555 C\n",
      "Kelvin : 278.7055555555555 K\n"
     ]
    }
   ],
   "source": [
    "# Converting Farenhiet to Kelvin and Celsius\n",
    "\n",
    "f = 42\n",
    "\n",
    "#Farenheit to celsious : C = (F − 32) × 5/9\n",
    "c = (f-32)*(5/9)\n",
    "\n",
    "#Celsious to Kelvin : K = C + 273.15\n",
    "k = c + 273.15\n",
    "\n",
    "print(\"Farenhiet :\",f,\"F\")\n",
    "print(\"Celsious :\",c,\"C\")\n",
    "print(\"Kelvin :\",k,\"K\")"
   ]
  },
  {
   "cell_type": "markdown",
   "metadata": {},
   "source": [
    "# 6. Write a program to demonstrate all the available data types in Python. Hint: Use type() function."
   ]
  },
  {
   "cell_type": "code",
   "execution_count": 15,
   "metadata": {},
   "outputs": [
    {
     "name": "stdout",
     "output_type": "stream",
     "text": [
      "<class 'int'>\n",
      "<class 'float'>\n",
      "<class 'bool'>\n",
      "<class 'str'>\n",
      "<class 'complex'>\n",
      "<class 'list'>\n",
      "<class 'tuple'>\n",
      "<class 'dict'>\n"
     ]
    }
   ],
   "source": [
    "print(type(1))\n",
    "print(type(4.9))\n",
    "print(type(True))\n",
    "print(type(\"pratik\"))\n",
    "print(type(2+5j))\n",
    "print(type([0,1,2]))\n",
    "print(type((1,2,3)))\n",
    "print(type({1:\"one\", 2:\"two\", 3:\"three\"}))"
   ]
  },
  {
   "cell_type": "markdown",
   "metadata": {},
   "source": [
    "# 7. How to upload a project/assignment in github"
   ]
  },
  {
   "cell_type": "raw",
   "metadata": {},
   "source": [
    "1.) Create project/assignment folder in your local machine\n",
    "\n",
    "2.) Load the github url and Create a profile(if you dont have one, create one by signing up with your existing gmail account)\n",
    "\n",
    "3.) Click on New button\n",
    "\n",
    "4.) Name the repository as LetsUpgrade AI-ML\n",
    "\n",
    "5.) Upload your project/assignment folder by drag-drop option\n",
    "\n",
    "6.) CLick on commit changes\n",
    "\n",
    "7.) Open the LetsUpgrade project/assignment submission form(upgrade team will upload the drive link)\n",
    "\n",
    "8.) fill the email, and other required fields\n",
    "\n",
    "9.) Copy paste the github url where you uploaded the project/assignment folder in your github\n",
    "\n",
    "10.) Click on submit."
   ]
  },
  {
   "cell_type": "code",
   "execution_count": 16,
   "metadata": {},
   "outputs": [
    {
     "data": {
      "text/plain": [
       "'C:\\\\Users\\\\palle\\\\Assignment Day-3'"
      ]
     },
     "execution_count": 16,
     "metadata": {},
     "output_type": "execute_result"
    }
   ],
   "source": [
    "import os\n",
    "os.getcwd()"
   ]
  },
  {
   "cell_type": "code",
   "execution_count": null,
   "metadata": {},
   "outputs": [],
   "source": []
  }
 ],
 "metadata": {
  "kernelspec": {
   "display_name": "Python 3",
   "language": "python",
   "name": "python3"
  },
  "language_info": {
   "codemirror_mode": {
    "name": "ipython",
    "version": 3
   },
   "file_extension": ".py",
   "mimetype": "text/x-python",
   "name": "python",
   "nbconvert_exporter": "python",
   "pygments_lexer": "ipython3",
   "version": "3.7.6"
  }
 },
 "nbformat": 4,
 "nbformat_minor": 4
}
