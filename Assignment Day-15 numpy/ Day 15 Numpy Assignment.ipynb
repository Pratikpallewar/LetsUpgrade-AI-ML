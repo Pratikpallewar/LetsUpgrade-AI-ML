{
 "cells": [
  {
   "cell_type": "code",
   "execution_count": 2,
   "metadata": {},
   "outputs": [],
   "source": [
    "import numpy as np"
   ]
  },
  {
   "cell_type": "markdown",
   "metadata": {},
   "source": [
    "# 1. Create a 3x3x3 array with random values"
   ]
  },
  {
   "cell_type": "code",
   "execution_count": 3,
   "metadata": {},
   "outputs": [
    {
     "data": {
      "text/plain": [
       "array([[[ 0.93096418, -0.190159  , -1.16892829],\n",
       "        [ 1.76535588,  0.68487333,  0.40100982],\n",
       "        [ 0.19516483,  0.45584245, -1.39735934]],\n",
       "\n",
       "       [[-0.61058029, -1.23513267,  0.09950094],\n",
       "        [ 0.16290213,  2.2377699 ,  0.82428584],\n",
       "        [ 0.52359352, -0.88412877,  0.0695874 ]],\n",
       "\n",
       "       [[ 0.92300127, -0.42515491, -0.20987164],\n",
       "        [-0.87877911, -1.65385564, -0.27580227],\n",
       "        [ 1.39788041, -0.6043122 ,  1.26135704]]])"
      ]
     },
     "execution_count": 3,
     "metadata": {},
     "output_type": "execute_result"
    }
   ],
   "source": [
    "np.random.randn(3,3,3)"
   ]
  },
  {
   "cell_type": "markdown",
   "metadata": {},
   "source": [
    "# 2.Create a 5x5 matrix with values 1,2,3,4 just below the diagonal"
   ]
  },
  {
   "cell_type": "code",
   "execution_count": 4,
   "metadata": {},
   "outputs": [
    {
     "name": "stdout",
     "output_type": "stream",
     "text": [
      "[[0 0 0 0 0]\n",
      " [1 0 0 0 0]\n",
      " [0 2 0 0 0]\n",
      " [0 0 3 0 0]\n",
      " [0 0 0 4 0]]\n"
     ]
    }
   ],
   "source": [
    "b= [1,2,3,4]\n",
    "a = np.diag(b , k = -1) # k=-1 => Lower Diagonal,,,, k=1==>> Upper Diagonal\n",
    "print (a)"
   ]
  },
  {
   "cell_type": "markdown",
   "metadata": {},
   "source": [
    "# 3.Create a 8x8 matrix and fill it with a checkerboard pattern"
   ]
  },
  {
   "cell_type": "code",
   "execution_count": 5,
   "metadata": {},
   "outputs": [
    {
     "data": {
      "text/plain": [
       "array([[0, 1, 0, 1, 0, 1, 0, 1],\n",
       "       [1, 0, 1, 0, 1, 0, 1, 0],\n",
       "       [0, 1, 0, 1, 0, 1, 0, 1],\n",
       "       [1, 0, 1, 0, 1, 0, 1, 0],\n",
       "       [0, 1, 0, 1, 0, 1, 0, 1],\n",
       "       [1, 0, 1, 0, 1, 0, 1, 0],\n",
       "       [0, 1, 0, 1, 0, 1, 0, 1],\n",
       "       [1, 0, 1, 0, 1, 0, 1, 0]])"
      ]
     },
     "execution_count": 5,
     "metadata": {},
     "output_type": "execute_result"
    }
   ],
   "source": [
    "a = np.zeros((8,8), dtype=int)\n",
    "a[::2 , 1::2]=1\n",
    "a[1::2 , ::2]=1\n",
    "a"
   ]
  },
  {
   "cell_type": "markdown",
   "metadata": {},
   "source": [
    "# 4. Normalize a 5x5 random matrix"
   ]
  },
  {
   "cell_type": "code",
   "execution_count": 6,
   "metadata": {},
   "outputs": [
    {
     "data": {
      "text/plain": [
       "array([[0.33383055, 0.42502606, 0.25355734, 0.21331766, 0.44025943],\n",
       "       [1.        , 0.40325364, 0.22250742, 0.27414761, 0.30776548],\n",
       "       [0.52628872, 0.74079687, 0.14821487, 0.67136057, 0.22156667],\n",
       "       [0.35530953, 0.09431812, 0.54371314, 0.93448189, 0.34672488],\n",
       "       [0.        , 0.18471097, 0.78292199, 0.57044513, 0.6105804 ]])"
      ]
     },
     "execution_count": 6,
     "metadata": {},
     "output_type": "execute_result"
    }
   ],
   "source": [
    "a = np.random.randn(5,5)\n",
    "max = a.max()\n",
    "min =a.min()\n",
    "\n",
    "a= (a-min)/(max-min)\n",
    "a # All values normalized (betn 0 and 1)"
   ]
  },
  {
   "cell_type": "markdown",
   "metadata": {},
   "source": [
    "# 5. How to find common values between two arrays?"
   ]
  },
  {
   "cell_type": "code",
   "execution_count": 7,
   "metadata": {},
   "outputs": [
    {
     "data": {
      "text/plain": [
       "array([4, 5, 6])"
      ]
     },
     "execution_count": 7,
     "metadata": {},
     "output_type": "execute_result"
    }
   ],
   "source": [
    "x = np.array([1,2,3,4,5,6])\n",
    "y = np.array([4,5,6,7,8,9])\n",
    "\n",
    "np.intersect1d(x,y)"
   ]
  },
  {
   "cell_type": "markdown",
   "metadata": {},
   "source": [
    "# 6.How to get the dates of yesterday, today and tomorrow?"
   ]
  },
  {
   "cell_type": "code",
   "execution_count": 8,
   "metadata": {},
   "outputs": [
    {
     "name": "stdout",
     "output_type": "stream",
     "text": [
      "Today's Date is :  2020-07-28\n",
      "Yesterday's Date : 2020-07-27\n",
      "Tommorow's Date : 2020-07-29\n"
     ]
    }
   ],
   "source": [
    "from datetime import date,timedelta\n",
    "\n",
    "today = date.today()\n",
    "print(\"Today's Date is : \",today)\n",
    "\n",
    "yesterday = today - timedelta(days = 1)\n",
    "print(\"Yesterday's Date :\",yesterday)\n",
    "\n",
    "tommorow = today + timedelta(days = 1)\n",
    "print(\"Tommorow's Date :\",tommorow)"
   ]
  },
  {
   "cell_type": "markdown",
   "metadata": {},
   "source": [
    "# 7. Consider two random array A and B, check if they are equal"
   ]
  },
  {
   "cell_type": "code",
   "execution_count": 9,
   "metadata": {},
   "outputs": [
    {
     "name": "stdout",
     "output_type": "stream",
     "text": [
      "Comparison\n",
      "[[ True  True  True]\n",
      " [ True  True  True]]\n",
      "Overall: True\n",
      "\n",
      "\n",
      "Comparison\n",
      "[False  True  True]\n",
      "Overall: False\n"
     ]
    }
   ],
   "source": [
    "# Equal Arrays testing\n",
    "import numpy as np\n",
    "a = np.array([[1,2,3],[4,5,6]])\n",
    "b = np.array([[1,2,3],[4,5,6]])\n",
    "\n",
    "comparison = a==b\n",
    "print(\"Comparison\")\n",
    "print(comparison)\n",
    "\n",
    "overall = comparison.all()\n",
    "print(\"Overall:\",overall)\n",
    "\n",
    "# Not equal Arrays testing\n",
    "a = np.array([1,2,3])\n",
    "b = np.array([4,2,3])\n",
    "print(\"\\n\")\n",
    "comparison = a==b\n",
    "print(\"Comparison\")\n",
    "print(comparison)  # Itcompares Position Wise\n",
    "\n",
    "overall = comparison.all()\n",
    "print(\"Overall:\",overall)"
   ]
  },
  {
   "cell_type": "markdown",
   "metadata": {},
   "source": [
    "# 9. How to print all the values of an array?"
   ]
  },
  {
   "cell_type": "code",
   "execution_count": 14,
   "metadata": {},
   "outputs": [
    {
     "name": "stdout",
     "output_type": "stream",
     "text": [
      "[0 1 2 3 4 5 6 7 8 9]\n"
     ]
    }
   ],
   "source": [
    "vec = np.arange(10)\n",
    "print(vec)"
   ]
  },
  {
   "cell_type": "markdown",
   "metadata": {},
   "source": [
    "# 10.Subtract the mean of each row of a matrix"
   ]
  },
  {
   "cell_type": "code",
   "execution_count": 15,
   "metadata": {},
   "outputs": [
    {
     "name": "stdout",
     "output_type": "stream",
     "text": [
      "[[1 2 3]\n",
      " [4 5 6]\n",
      " [7 8 9]]\n",
      "Col: [4. 5. 6.]\n",
      "row: [2. 5. 8.]\n",
      "5.0\n"
     ]
    }
   ],
   "source": [
    "a = np.array([[1,2,3],[4,5,6],[7,8,9]])\n",
    "print(a)\n",
    "\n",
    "col = np.mean(a,axis=0) #Column\n",
    "row = np.mean(a,axis=1) #Row\n",
    "print(\"Col:\",col)\n",
    "print(\"row:\",row)\n",
    "\n",
    "#Subtracting Each rows Mean\n",
    "sub=0\n",
    "for i in row:\n",
    "    sub = i-sub\n",
    "    \n",
    "print(sub)"
   ]
  },
  {
   "cell_type": "markdown",
   "metadata": {},
   "source": [
    "# 11.Consider a given vector, how to add 1 to each element indexed by a second vector (be careful with repeated indices)?"
   ]
  },
  {
   "cell_type": "code",
   "execution_count": 18,
   "metadata": {},
   "outputs": [
    {
     "name": "stdout",
     "output_type": "stream",
     "text": [
      "Indices [4 3 4 3 2 3 2 1 4 1 0 0 4 0 2 2 0 2 4 3]\n",
      "v1 after adding 1 at indices [ 5  4  8  8 10]\n"
     ]
    }
   ],
   "source": [
    "#Vector\n",
    "v1 = np.array([1,2,3,4,5])\n",
    "\n",
    "#Indices Vector\n",
    "i = np.random.randint(0,len(v1),20)        # in the range of 0,5 generate 20 numbers \n",
    "print(\"Indices\",i)\n",
    "np.add.at(v1,i,1)                          # Add 1 at i indices in v1 vector\n",
    "\n",
    "print(\"v1 after adding 1 at indices\",v1) "
   ]
  },
  {
   "cell_type": "markdown",
   "metadata": {},
   "source": [
    "# 12.How to get the diagonal of a dot product?"
   ]
  },
  {
   "cell_type": "code",
   "execution_count": 19,
   "metadata": {},
   "outputs": [
    {
     "name": "stdout",
     "output_type": "stream",
     "text": [
      "Dot Product\n",
      " [[ 300  360  420]\n",
      " [ 660  810  960]\n",
      " [1020 1260 1500]]\n",
      "Diagonal of Dot Product\n",
      " [ 300  810 1500]\n"
     ]
    }
   ],
   "source": [
    "a = np.array([[1,2,3],[4,5,6],[7,8,9]])\n",
    "b = np.array([[10,20,30],[40,50,60],[70,80,90]])\n",
    "\n",
    "dp = a.dot(b) #Dot Product\n",
    "print(\"Dot Product\\n\",dp)\n",
    "\n",
    "print(\"Diagonal of Dot Product\\n\",np.diag(dp))"
   ]
  },
  {
   "cell_type": "markdown",
   "metadata": {},
   "source": [
    "# 13.How to find the most frequent value in an array?"
   ]
  },
  {
   "cell_type": "code",
   "execution_count": 20,
   "metadata": {},
   "outputs": [
    {
     "name": "stdout",
     "output_type": "stream",
     "text": [
      "Array\n",
      " [2, 1, 4, 4, 1, 1, 1, 0, 3, 0, 2, 3, 0, 1, 3, 1, 0, 2, 2, 1]\n",
      "\n",
      "Max Freq : 7 Of Value : 1\n"
     ]
    }
   ],
   "source": [
    "a =list(np.random.randint(0,5,20)) # Random array of size 20 having values between 0 and 5\n",
    "print(\"Array\\n\",a)\n",
    "a_uniq = list(dict.fromkeys(a))\n",
    "max_cnt = a.count(a_uniq[0])\n",
    "max_i = 0\n",
    "\n",
    "for i in range(1,len(a_uniq)):\n",
    "    if a.count(a_uniq[i]) > max_cnt:\n",
    "        max_cnt = a.count(a_uniq[i])\n",
    "        max_i = i\n",
    "        \n",
    "print()\n",
    "print(\"Max Freq :\",max_cnt,\"Of Value :\",a_uniq[max_i])"
   ]
  },
  {
   "cell_type": "markdown",
   "metadata": {},
   "source": [
    "# 15.How to create a record array from a regular array?"
   ]
  },
  {
   "cell_type": "code",
   "execution_count": 22,
   "metadata": {},
   "outputs": [
    {
     "data": {
      "text/plain": [
       "array([(1, 2., b'Hello'), (2, 3., b'World')],\n",
       "      dtype=[('f0', '<i4'), ('f1', '<f4'), ('f2', 'S10')])"
      ]
     },
     "execution_count": 22,
     "metadata": {},
     "output_type": "execute_result"
    }
   ],
   "source": [
    "x = np.zeros((2,),dtype=('i4,f4,a10'))\n",
    "x[:] = [(1,2.,'Hello'),(2,3.,\"World\")] # Record Array\n",
    "x"
   ]
  },
  {
   "cell_type": "code",
   "execution_count": 23,
   "metadata": {},
   "outputs": [
    {
     "name": "stdout",
     "output_type": "stream",
     "text": [
      "First Record: (1, 2., b'Hello')\n",
      "Second Record: (2, 3., b'World')\n"
     ]
    }
   ],
   "source": [
    "print(\"First Record:\",x[0])\n",
    "print(\"Second Record:\",x[1])"
   ]
  }
 ],
 "metadata": {
  "kernelspec": {
   "display_name": "Python 3",
   "language": "python",
   "name": "python3"
  },
  "language_info": {
   "codemirror_mode": {
    "name": "ipython",
    "version": 3
   },
   "file_extension": ".py",
   "mimetype": "text/x-python",
   "name": "python",
   "nbconvert_exporter": "python",
   "pygments_lexer": "ipython3",
   "version": "3.7.6"
  }
 },
 "nbformat": 4,
 "nbformat_minor": 4
}
